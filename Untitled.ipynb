{
 "cells": [
  {
   "cell_type": "code",
   "execution_count": 30,
   "metadata": {
    "collapsed": false
   },
   "outputs": [],
   "source": [
    "import tensorflow as tf\n",
    "import utils\n",
    "import models\n",
    "import embedding_only\n",
    "import os\n",
    "import word2vec as w2v\n",
    "import numpy as np"
   ]
  },
  {
   "cell_type": "code",
   "execution_count": 55,
   "metadata": {
    "collapsed": false
   },
   "outputs": [
    {
     "name": "stdout",
     "output_type": "stream",
     "text": [
      "/Users/raymond/Playground/WhatsTheWord\n",
      "/Users/raymond/Playground/WhatsTheWord/logs/conv/default_conv\n",
      "Using run: 20180506-2003\n"
     ]
    }
   ],
   "source": [
    "stuffs = utils.load_run_data(run_id='conv/default_conv')"
   ]
  },
  {
   "cell_type": "code",
   "execution_count": 56,
   "metadata": {
    "collapsed": false
   },
   "outputs": [],
   "source": [
    "run_config, dictionary, reversed_dictionary, full_folderpath = stuffs"
   ]
  },
  {
   "cell_type": "code",
   "execution_count": null,
   "metadata": {
    "collapsed": false
   },
   "outputs": [],
   "source": []
  },
  {
   "cell_type": "code",
   "execution_count": 57,
   "metadata": {
    "collapsed": false
   },
   "outputs": [
    {
     "data": {
      "text/plain": [
       "{'batch_size': 256,\n",
       " 'embedding_size': 128,\n",
       " 'num_sampled': 64,\n",
       " 'num_skips': 1,\n",
       " 'num_steps': 50000,\n",
       " 'skip_window': 4,\n",
       " 'vocabulary_size': 5000}"
      ]
     },
     "execution_count": 57,
     "metadata": {},
     "output_type": "execute_result"
    }
   ],
   "source": [
    "run_config"
   ]
  },
  {
   "cell_type": "code",
   "execution_count": null,
   "metadata": {
    "collapsed": false,
    "scrolled": true
   },
   "outputs": [],
   "source": []
  },
  {
   "cell_type": "code",
   "execution_count": 53,
   "metadata": {
    "collapsed": false
   },
   "outputs": [
    {
     "name": "stdout",
     "output_type": "stream",
     "text": [
      "example: ['some', 'days', 'i', 'wonder', 'you', 'still', 'think', 'about']\n",
      "vectorized: [[83, 417, 1, 654, 3, 109, 117, 92]]\n",
      "(1, 8, 128)\n",
      "Tensor(\"Placeholder:0\", shape=(1, 8, 128), dtype=float32)\n",
      "<tf.Variable 'model/conv_weights/Variable:0' shape=(2, 128, 64) dtype=float32_ref>\n",
      "<tf.Variable 'model/conv_weights/Variable_1:0' shape=(512, 2500) dtype=float32_ref>\n",
      "Tensor(\"model/conv_weights/conv1d/Squeeze:0\", shape=(1, 8, 64), dtype=float32)\n",
      "<tf.Variable 'model/conv_biases/Variable:0' shape=(8, 64) dtype=float32_ref>\n",
      "Tensor(\"model/calulations/Flatten/Reshape:0\", shape=(1, 512), dtype=float32)\n",
      "<tf.Variable 'model/conv_weights/Variable_1:0' shape=(512, 2500) dtype=float32_ref>\n",
      "<tf.Variable 'model/conv_biases/Variable_1:0' shape=(2500,) dtype=float32_ref>\n",
      "Tensor(\"model/calulations/add_1:0\", shape=(1, 2500), dtype=float32)\n",
      "INFO:tensorflow:Restoring parameters from /Users/raymond/Playground/WhatsTheWord/logs/conv/testing_conv/20180614-2304/model.ckpt\n"
     ]
    }
   ],
   "source": [
    "tf.reset_default_graph()\n",
    "graph = tf.Graph()\n",
    "session = tf.Session(graph=graph)\n",
    "with graph.as_default():\n",
    "    tensors = embedding_only._load_tensors(run_config['vocabulary_size'], run_config['embedding_size'], graph)\n",
    "    embeddings = tensors['embeddings']\n",
    "    reversed_dictionary[0]\n",
    "    test_words = \"some days i wonder if you still think about\"\n",
    "    split_words = test_words.split()\n",
    "    words = split_words[:4] + split_words[5:]\n",
    "    print(\"example: {}\".format(words))\n",
    "    vectorized = [[dictionary.get(w + '\\n', 0) for w in words]]\n",
    "    print('vectorized: {}'.format(vectorized))\n",
    "#     one_hot = tf.one_hot(vectorized, run_config['vocabulary_size'])\n",
    "    embedding_input = tf.nn.embedding_lookup(embeddings, vectorized)\n",
    "    embedding_placeholder = tf.placeholder(tf.float32, shape=[1, 8, 128])\n",
    "    with tf.name_scope(\"model\"):\n",
    "        m = models.CNNModel(embedding_placeholder, **run_config)\n",
    "        print(embedding_input.shape)\n",
    "        out_tensor = m.load_tesnsors()\n",
    "        softmax = tf.nn.softmax(out_tensor)\n",
    "    with session as sess:\n",
    "        saver = tf.train.Saver()\n",
    "        saver.restore(sess, os.path.join(full_folderpath, 'model.ckpt'))\n",
    "        input_array = sess.run(embedding_input)\n",
    "        results = sess.run(softmax, feed_dict={embedding_placeholder: input_array})\n",
    "        \"\"\"??? What's up next ??? Pass in the embedding input sess.run() and get the output\"\"\"\n",
    "# placeholder_embed = tf.nn.embedding_lookup(embeddings, placeholder_input)"
   ]
  },
  {
   "cell_type": "code",
   "execution_count": 54,
   "metadata": {
    "collapsed": false
   },
   "outputs": [
    {
     "name": "stdout",
     "output_type": "stream",
     "text": [
      "predicted word: i\n",
      "\n",
      "expected 33 got 1\n",
      "softmax vals: \n",
      "\texpected word '33': 0.0\n",
      "\tpredicted word '1': 1.0\n"
     ]
    }
   ],
   "source": [
    "sum(results[0])\n",
    "results[0].shape\n",
    "idx = np.argmax(results[0])\n",
    "print(\"predicted word: {}\".format(reversed_dictionary[idx]))\n",
    "truth = dictionary['what\\n']\n",
    "print(\"expected {} got {}\".format(truth, idx))\n",
    "print(\"softmax vals: \\n\\texpected word '{}': {}\\n\\tpredicted word '{}': {}\".format(truth, results[0][truth], idx, results[0][idx]))"
   ]
  },
  {
   "cell_type": "code",
   "execution_count": 25,
   "metadata": {
    "collapsed": false
   },
   "outputs": [],
   "source": [
    "s = [0,1,2,3,4,5,6,7,8]\n",
    "ex = w2v._make_model_example(s, 9, True)"
   ]
  },
  {
   "cell_type": "code",
   "execution_count": 61,
   "metadata": {
    "collapsed": false
   },
   "outputs": [
    {
     "data": {
      "text/plain": [
       "<tf.Tensor 'ArgMax_2:0' shape=(2,) dtype=int64>"
      ]
     },
     "execution_count": 61,
     "metadata": {},
     "output_type": "execute_result"
    }
   ],
   "source": [
    "combined = np.array([results[0], results[0]])\n",
    "combined.shape\n",
    "tf.argmax(combined, axis=1)"
   ]
  },
  {
   "cell_type": "code",
   "execution_count": 63,
   "metadata": {
    "collapsed": false
   },
   "outputs": [
    {
     "data": {
      "text/plain": [
       "<tf.Tensor 'Cast:0' shape=() dtype=int64>"
      ]
     },
     "execution_count": 63,
     "metadata": {},
     "output_type": "execute_result"
    }
   ],
   "source": [
    "tf.cast(1, tf.int64)"
   ]
  },
  {
   "cell_type": "code",
   "execution_count": null,
   "metadata": {
    "collapsed": true
   },
   "outputs": [],
   "source": []
  }
 ],
 "metadata": {
  "kernelspec": {
   "display_name": "Python 3",
   "language": "python",
   "name": "python3"
  },
  "language_info": {
   "codemirror_mode": {
    "name": "ipython",
    "version": 3
   },
   "file_extension": ".py",
   "mimetype": "text/x-python",
   "name": "python",
   "nbconvert_exporter": "python",
   "pygments_lexer": "ipython3",
   "version": "3.6.0"
  }
 },
 "nbformat": 4,
 "nbformat_minor": 2
}
