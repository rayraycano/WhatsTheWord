{
 "cells": [
  {
   "cell_type": "code",
   "execution_count": 22,
   "metadata": {
    "collapsed": false
   },
   "outputs": [],
   "source": [
    "import os, sys\n",
    "import string\n",
    "DB_PATH = '../db'\n",
    "import json"
   ]
  },
  {
   "cell_type": "code",
   "execution_count": 2,
   "metadata": {
    "collapsed": true
   },
   "outputs": [],
   "source": [
    "def read_lyrics_for_artist(artist):\n",
    "    words = []\n",
    "    for filename in os.listdir(os.path.join(DB_PATH, artist)):\n",
    "        with open(os.path.join(DB_PATH, artist, filename), 'r') as f:\n",
    "            text = f.read()\n",
    "            parsed_words = get_words(text)\n",
    "            words.extend(parsed_words)\n",
    "    return words\n",
    "        \n",
    "def get_words(text):\n",
    "    white_split = text.split(string.whitespace)\n",
    "    lowercased = [x.lower() for x in white_split]\n",
    "    punctuation_stripper = str.maketrans('', '', string.punctuation)\n",
    "    stripped = [w.translate(punctuation_stripper) for w in lowercased]\n",
    "    return stripped"
   ]
  },
  {
   "cell_type": "code",
   "execution_count": 21,
   "metadata": {
    "collapsed": false
   },
   "outputs": [],
   "source": [
    "w = read_lyrics_for_artist(\"Kendrick Lamar\")\n"
   ]
  },
  {
   "cell_type": "code",
   "execution_count": 22,
   "metadata": {
    "collapsed": false
   },
   "outputs": [
    {
     "data": {
      "text/plain": [
       "'intro kendrick lamar\\nblessed are the bullies\\nfor one day they will have to stand up to themselves\\nblessed are the liars\\nfor the truth can be awkward\\nverse 1 bono\\nits not a place\\nthis country is to me a sound\\nof drum and bass\\nyou close your eyes to look around\\nbridge 1 bono\\nlook around look around\\nlook around its a sound\\nlook around look around\\nits a sound\\nverse 2 bono\\nits not a place\\nthis country is to me a thought\\nthat offers grace\\nfor every welcome that is sought\\nchorus bono\\nyou are rock and roll\\nyou and i are rock and roll\\nyou are rock and roll\\nwe came here looking for american soul\\nverse 3 bono\\nits not a place\\nthis is a dream the whole world owns\\nthe pilgrims face\\nit had your heart to call her home\\nrefrain\\nhold on brother john\\ntoo many mothers weepin\\ndream on brother john\\nbut in your dreams you cant be sleepin\\nchorus bono\\nyou are rock and roll\\nyou and i are rock and roll\\nyou are rock and roll\\nwe came here looking for american soul\\namerican\\namerican\\nbridge 2 bono\\nput your hands in the air\\nhold up the sky\\ncould be too late but we still gotta try\\ntheres a moment in our life where a soul can die\\nand the person in a country when you believe the lie\\nthe lie the lie the lie\\ntheres a promise in the heart of every good dream\\nits a call to action not to fantasy\\nthe end of a dream the start of whats real\\nlet it be unity\\nlet it be community\\nfor refugees like you and me\\na country to receive us\\nwill you be our sanctuary\\nrefujesus\\nchorus bono\\nyou are rock and roll\\nyou and i are rock and roll\\nyou are rock and roll\\ncame here looking for american soul\\nchorus bono\\nyou are rock and roll\\nyou and i are rock and roll\\nyou are rock and roll\\ncame here looking for american soul\\namerican soul\\namerican soul'"
      ]
     },
     "execution_count": 22,
     "metadata": {},
     "output_type": "execute_result"
    }
   ],
   "source": [
    "w[0]"
   ]
  },
  {
   "cell_type": "code",
   "execution_count": 7,
   "metadata": {
    "collapsed": false
   },
   "outputs": [
    {
     "data": {
      "text/plain": [
       "15456"
      ]
     },
     "execution_count": 7,
     "metadata": {},
     "output_type": "execute_result"
    }
   ],
   "source": [
    "artists = os.listdir(DB_PATH)\n",
    "len(artists)"
   ]
  },
  {
   "cell_type": "code",
   "execution_count": 31,
   "metadata": {
    "collapsed": false,
    "scrolled": true
   },
   "outputs": [
    {
     "name": "stdout",
     "output_type": "stream",
     "text": [
      "number of qualifying artists 116\n",
      "[(91, 'Black Milk'), (91, 'Samuel Taylor Coleridge'), (91, 'Wyclef Jean'), (93, \"Cam'ron\"), (93, 'K.I.Z.'), (94, 'Ne-Yo'), (95, 'Everlast'), (95, 'Jean Grae'), (95, 'Joe Budden'), (95, 'KRS-One'), (96, 'Twista'), (97, 'Big Sean'), (97, 'Mannie Fresh'), (98, 'Kendrick Lamar'), (98, '\\u200bwill.i.am')]\n",
      "[(220, 'Chris Brown'), (225, 'J Dilla'), (225, 'Lil B'), (229, 'Justin Timberlake'), (237, 'Ghostface Killah'), (242, 'Johnny Cash'), (245, 'Kanye West'), (255, 'Wale'), (257, 'Bob Dylan'), (271, 'William Shakespeare'), (285, 'Frank Sinatra'), (292, 'Snoop Dogg'), (306, 'Gucci Mane'), (335, 'Emily Dickinson'), (421, 'Eminem')]\n"
     ]
    }
   ],
   "source": [
    "artists_with_data = []\n",
    "for a in artists:\n",
    "    num_songs = len(os.listdir(os.path.join(DB_PATH, a)))\n",
    "    if num_songs > 90:\n",
    "        artists_with_data.append((num_songs, a))\n",
    "print(\"number of qualifying artists\", len(artists_with_data))\n",
    "ordered_by_volume = sorted(artists_with_data)\n",
    "print(ordered_by_volume[:15])\n",
    "print(ordered_by_volume[-15:])"
   ]
  },
  {
   "cell_type": "code",
   "execution_count": 32,
   "metadata": {
    "collapsed": false
   },
   "outputs": [],
   "source": [
    "artist_map = json.load(open(os.path.join(DB_PATH, 'artist_maps/artist_map.json')))"
   ]
  },
  {
   "cell_type": "code",
   "execution_count": 33,
   "metadata": {
    "collapsed": false
   },
   "outputs": [
    {
     "name": "stdout",
     "output_type": "stream",
     "text": [
      "max id: 15758 min id: 1\n"
     ]
    }
   ],
   "source": [
    "max_number = max([artist_map[x[1]] for x in ordered_by_volume])\n",
    "min_number = min([artist_map[x[1]] for x in ordered_by_volume])\n",
    "print('max id: {} min id: {}'.format(max_number, min_number))"
   ]
  },
  {
   "cell_type": "code",
   "execution_count": 35,
   "metadata": {
    "collapsed": false
   },
   "outputs": [
    {
     "ename": "FileNotFoundError",
     "evalue": "[Errno 2] No such file or directory: '../db/artist_maps/urls.txt'",
     "output_type": "error",
     "traceback": [
      "\u001b[0;31m---------------------------------------------------------------------------\u001b[0m",
      "\u001b[0;31mFileNotFoundError\u001b[0m                         Traceback (most recent call last)",
      "\u001b[0;32m<ipython-input-35-0088e72f41b8>\u001b[0m in \u001b[0;36m<module>\u001b[0;34m()\u001b[0m\n\u001b[1;32m      1\u001b[0m \u001b[0mnum_entries\u001b[0m \u001b[0;34m=\u001b[0m \u001b[0;34m[\u001b[0m\u001b[0;34m]\u001b[0m\u001b[0;34m\u001b[0m\u001b[0m\n\u001b[1;32m      2\u001b[0m \u001b[0;32mfor\u001b[0m \u001b[0ma\u001b[0m \u001b[0;32min\u001b[0m \u001b[0martists\u001b[0m\u001b[0;34m:\u001b[0m\u001b[0;34m\u001b[0m\u001b[0m\n\u001b[0;32m----> 3\u001b[0;31m     \u001b[0;32mwith\u001b[0m \u001b[0mopen\u001b[0m\u001b[0;34m(\u001b[0m\u001b[0mos\u001b[0m\u001b[0;34m.\u001b[0m\u001b[0mpath\u001b[0m\u001b[0;34m.\u001b[0m\u001b[0mjoin\u001b[0m\u001b[0;34m(\u001b[0m\u001b[0mDB_PATH\u001b[0m\u001b[0;34m,\u001b[0m \u001b[0ma\u001b[0m\u001b[0;34m,\u001b[0m \u001b[0;34m'urls.txt'\u001b[0m\u001b[0;34m)\u001b[0m\u001b[0;34m,\u001b[0m \u001b[0;34m'r'\u001b[0m\u001b[0;34m)\u001b[0m \u001b[0;32mas\u001b[0m \u001b[0mf\u001b[0m\u001b[0;34m:\u001b[0m\u001b[0;34m\u001b[0m\u001b[0m\n\u001b[0m\u001b[1;32m      4\u001b[0m         \u001b[0mnum_entries\u001b[0m\u001b[0;34m.\u001b[0m\u001b[0mappend\u001b[0m\u001b[0;34m(\u001b[0m\u001b[0;34m(\u001b[0m\u001b[0mlen\u001b[0m\u001b[0;34m(\u001b[0m\u001b[0mf\u001b[0m\u001b[0;34m.\u001b[0m\u001b[0mreadlines\u001b[0m\u001b[0;34m(\u001b[0m\u001b[0;34m)\u001b[0m\u001b[0;34m)\u001b[0m\u001b[0;34m,\u001b[0m \u001b[0ma\u001b[0m\u001b[0;34m)\u001b[0m\u001b[0;34m)\u001b[0m\u001b[0;34m\u001b[0m\u001b[0m\n\u001b[1;32m      5\u001b[0m \u001b[0mordered_by_url_doc\u001b[0m \u001b[0;34m=\u001b[0m \u001b[0msorted\u001b[0m\u001b[0;34m(\u001b[0m\u001b[0mnum_entries\u001b[0m\u001b[0;34m)\u001b[0m\u001b[0;34m\u001b[0m\u001b[0m\n",
      "\u001b[0;31mFileNotFoundError\u001b[0m: [Errno 2] No such file or directory: '../db/artist_maps/urls.txt'"
     ]
    }
   ],
   "source": [
    "num_entries = []\n",
    "for a in artists_with_data:\n",
    "    with open(os.path.join(DB_PATH, a[1], 'urls.txt'), 'r') as f:\n",
    "        num_entries.append((len(f.readlines()), a[1]))\n",
    "ordered_by_url_doc = sorted(num_entries)\n",
    "print(ordered_by_url_doc[:15])"
   ]
  },
  {
   "cell_type": "code",
   "execution_count": 38,
   "metadata": {
    "collapsed": false
   },
   "outputs": [
    {
     "data": {
      "text/plain": [
       "15456"
      ]
     },
     "execution_count": 38,
     "metadata": {},
     "output_type": "execute_result"
    }
   ],
   "source": [
    "len(artists)"
   ]
  },
  {
   "cell_type": "code",
   "execution_count": null,
   "metadata": {
    "collapsed": true
   },
   "outputs": [],
   "source": []
  }
 ],
 "metadata": {
  "kernelspec": {
   "display_name": "Python 3",
   "language": "python",
   "name": "python3"
  },
  "language_info": {
   "codemirror_mode": {
    "name": "ipython",
    "version": 3
   },
   "file_extension": ".py",
   "mimetype": "text/x-python",
   "name": "python",
   "nbconvert_exporter": "python",
   "pygments_lexer": "ipython3",
   "version": "3.6.0"
  }
 },
 "nbformat": 4,
 "nbformat_minor": 2
}
