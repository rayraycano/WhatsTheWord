{
 "cells": [
  {
   "cell_type": "code",
   "execution_count": 2,
   "metadata": {
    "collapsed": true
   },
   "outputs": [],
   "source": [
    "import os, sys"
   ]
  },
  {
   "cell_type": "code",
   "execution_count": null,
   "metadata": {
    "collapsed": true
   },
   "outputs": [],
   "source": [
    "DB_PATH = '../db'\n",
    "def read_lyrics_for_artist(artist)\n",
    "    words = []\n",
    "    for filename in os.listdir(os.path.join(DB_PATH, artist)):\n",
    "        with open(os.path.join(DB_PATH, filename), 'r') as f:\n",
    "            text = f.read()\n",
    "            parsed_words = clean_text(text)\n",
    "            words.append(parsed_words)\n",
    "    return words\n",
    "        \n"
   ]
  }
 ],
 "metadata": {
  "kernelspec": {
   "display_name": "Python 3",
   "language": "python",
   "name": "python3"
  },
  "language_info": {
   "codemirror_mode": {
    "name": "ipython",
    "version": 3
   },
   "file_extension": ".py",
   "mimetype": "text/x-python",
   "name": "python",
   "nbconvert_exporter": "python",
   "pygments_lexer": "ipython3",
   "version": "3.6.0"
  }
 },
 "nbformat": 4,
 "nbformat_minor": 2
}
