{
 "cells": [
  {
   "cell_type": "code",
   "execution_count": 1,
   "metadata": {
    "collapsed": false
   },
   "outputs": [
    {
     "ename": "ModuleNotFoundError",
     "evalue": "No module named 'scrape'",
     "output_type": "error",
     "traceback": [
      "\u001b[0;31m---------------------------------------------------------------------------\u001b[0m",
      "\u001b[0;31mModuleNotFoundError\u001b[0m                       Traceback (most recent call last)",
      "\u001b[0;32m<ipython-input-1-b1f791e3dcc2>\u001b[0m in \u001b[0;36m<module>\u001b[0;34m()\u001b[0m\n\u001b[1;32m      1\u001b[0m \u001b[0;32mimport\u001b[0m \u001b[0mos\u001b[0m\u001b[0;34m,\u001b[0m \u001b[0msys\u001b[0m\u001b[0;34m\u001b[0m\u001b[0m\n\u001b[1;32m      2\u001b[0m \u001b[0;32mimport\u001b[0m \u001b[0mstring\u001b[0m\u001b[0;34m\u001b[0m\u001b[0m\n\u001b[0;32m----> 3\u001b[0;31m \u001b[0;32mimport\u001b[0m \u001b[0mscrape\u001b[0m\u001b[0;34m\u001b[0m\u001b[0m\n\u001b[0m\u001b[1;32m      4\u001b[0m \u001b[0mDB_PATH\u001b[0m \u001b[0;34m=\u001b[0m \u001b[0;34m'../db'\u001b[0m\u001b[0;34m\u001b[0m\u001b[0m\n",
      "\u001b[0;31mModuleNotFoundError\u001b[0m: No module named 'scrape'"
     ]
    }
   ],
   "source": [
    "import os, sys\n",
    "import string\n",
    "import scrape\n",
    "DB_PATH = '../db'"
   ]
  },
  {
   "cell_type": "code",
   "execution_count": 20,
   "metadata": {
    "collapsed": true
   },
   "outputs": [],
   "source": [
    "def read_lyrics_for_artist(artist):\n",
    "    words = []\n",
    "    for filename in os.listdir(os.path.join(DB_PATH, artist)):\n",
    "        with open(os.path.join(DB_PATH, artist, filename), 'r') as f:\n",
    "            text = f.read()\n",
    "            parsed_words = get_words(text)\n",
    "            words.extend(parsed_words)\n",
    "    return words\n",
    "        \n",
    "def get_words(text):\n",
    "    white_split = text.split(string.whitespace)\n",
    "    lowercased = [x.lower() for x in white_split]\n",
    "    punctuation_stripper = str.maketrans('', '', string.punctuation)\n",
    "    stripped = [w.translate(punctuation_stripper) for w in lowercased]\n",
    "    return stripped"
   ]
  },
  {
   "cell_type": "code",
   "execution_count": 21,
   "metadata": {
    "collapsed": false
   },
   "outputs": [],
   "source": [
    "w = read_lyrics_for_artist(\"Kendrick Lamar\")\n"
   ]
  },
  {
   "cell_type": "code",
   "execution_count": 22,
   "metadata": {
    "collapsed": false
   },
   "outputs": [
    {
     "data": {
      "text/plain": [
       "'intro kendrick lamar\\nblessed are the bullies\\nfor one day they will have to stand up to themselves\\nblessed are the liars\\nfor the truth can be awkward\\nverse 1 bono\\nits not a place\\nthis country is to me a sound\\nof drum and bass\\nyou close your eyes to look around\\nbridge 1 bono\\nlook around look around\\nlook around its a sound\\nlook around look around\\nits a sound\\nverse 2 bono\\nits not a place\\nthis country is to me a thought\\nthat offers grace\\nfor every welcome that is sought\\nchorus bono\\nyou are rock and roll\\nyou and i are rock and roll\\nyou are rock and roll\\nwe came here looking for american soul\\nverse 3 bono\\nits not a place\\nthis is a dream the whole world owns\\nthe pilgrims face\\nit had your heart to call her home\\nrefrain\\nhold on brother john\\ntoo many mothers weepin\\ndream on brother john\\nbut in your dreams you cant be sleepin\\nchorus bono\\nyou are rock and roll\\nyou and i are rock and roll\\nyou are rock and roll\\nwe came here looking for american soul\\namerican\\namerican\\nbridge 2 bono\\nput your hands in the air\\nhold up the sky\\ncould be too late but we still gotta try\\ntheres a moment in our life where a soul can die\\nand the person in a country when you believe the lie\\nthe lie the lie the lie\\ntheres a promise in the heart of every good dream\\nits a call to action not to fantasy\\nthe end of a dream the start of whats real\\nlet it be unity\\nlet it be community\\nfor refugees like you and me\\na country to receive us\\nwill you be our sanctuary\\nrefujesus\\nchorus bono\\nyou are rock and roll\\nyou and i are rock and roll\\nyou are rock and roll\\ncame here looking for american soul\\nchorus bono\\nyou are rock and roll\\nyou and i are rock and roll\\nyou are rock and roll\\ncame here looking for american soul\\namerican soul\\namerican soul'"
      ]
     },
     "execution_count": 22,
     "metadata": {},
     "output_type": "execute_result"
    }
   ],
   "source": [
    "w[0]"
   ]
  },
  {
   "cell_type": "code",
   "execution_count": null,
   "metadata": {
    "collapsed": true
   },
   "outputs": [],
   "source": []
  }
 ],
 "metadata": {
  "kernelspec": {
   "display_name": "Python 3",
   "language": "python",
   "name": "python3"
  },
  "language_info": {
   "codemirror_mode": {
    "name": "ipython",
    "version": 3
   },
   "file_extension": ".py",
   "mimetype": "text/x-python",
   "name": "python",
   "nbconvert_exporter": "python",
   "pygments_lexer": "ipython3",
   "version": "3.6.0"
  }
 },
 "nbformat": 4,
 "nbformat_minor": 2
}
